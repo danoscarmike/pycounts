{
 "cells": [
  {
   "cell_type": "markdown",
   "source": [
    "# Example usage\n",
    "\n",
    "In this example we will demonstrate how to use `pycounts` to count the words in a file and plot the results for the 5 most common words."
   ],
   "metadata": {}
  },
  {
   "cell_type": "markdown",
   "source": [
    "## Imports"
   ],
   "metadata": {}
  },
  {
   "cell_type": "code",
   "execution_count": 2,
   "source": [
    "from pycounts.pycounts import count_words\n",
    "from pycounts.plotting import plot_words"
   ],
   "outputs": [],
   "metadata": {}
  },
  {
   "cell_type": "markdown",
   "source": [
    "## Create a text file"
   ],
   "metadata": {}
  },
  {
   "cell_type": "code",
   "execution_count": null,
   "source": [
    "quote = \"\"\"Insanity is doing the same thing, over and over, and expecting different results!\"\"\"\n",
    "\n",
    "with open(\"einstein.txt\", \"w\") as f:\n",
    "    f.write(quote)"
   ],
   "outputs": [],
   "metadata": {}
  },
  {
   "cell_type": "code",
   "execution_count": null,
   "source": [],
   "outputs": [],
   "metadata": {}
  }
 ],
 "metadata": {
  "kernelspec": {
   "name": "python3",
   "display_name": "Python 3.8.2 64-bit ('.venv')"
  },
  "language_info": {
   "codemirror_mode": {
    "name": "ipython",
    "version": 3
   },
   "file_extension": ".py",
   "mimetype": "text/x-python",
   "name": "python",
   "nbconvert_exporter": "python",
   "pygments_lexer": "ipython3",
   "version": "3.8.2"
  },
  "interpreter": {
   "hash": "523f57baa060650634783b560f3ea2cdf3c0ae360d1bb4d1cd7344bba371a518"
  }
 },
 "nbformat": 4,
 "nbformat_minor": 4
}